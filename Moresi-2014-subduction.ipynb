{
 "cells": [
  {
   "cell_type": "markdown",
   "metadata": {},
   "source": [
    "Dynamics of continental accretion\n",
    "======\n",
    "\n",
    "This notebook outlines the Underworld model used in the Moresi (2014) paper 'Dynamics of continental accretion'. It reproduces the initial conditions shown in Extended Data Figure 1 and 2 and the numerics required for reproduce Figure 2.\n",
    "\n",
    "\"In order to better understand the behaviour of this ancient plate mar- gin and the growth of the Australian continent, we use three-dimensional (3D) dynamic models of a subducting slab, overriding plate and mantle, building on previous work14–16. The models have a four-layer subduct- ing plate with buoyancy and rheology of each layer pre-calculated from a half-space cooling model of 80 or 120 Myr age, and they include either a weak or a strong viscoplastic overriding plate (Table 1 and Extended Data Figs 1 and 2). The simulations are best understood by viewing movies of the time evolution (Table 1).\"\n",
    "\n",
    "**References**\n",
    "\n",
    "Moresi, L., P. G. Betts, M. S. Miller, and R. A. Cayley. 2014. “Dynamics of Continental Accretion.” Nature 508 (7495): 245–48. [doi:10.1038/nature13033](https://www.nature.com/articles/nature13033)"
   ]
  },
  {
   "cell_type": "markdown",
   "metadata": {},
   "source": [
    "**TODO!!!**\n",
    "\n",
    "0. cohesion scaling doesn't seem to be corrent - pressure...\n",
    "1. Confirm density change - crust  to eclogite\n",
    "2. Include passive tracer swarms\n"
   ]
  },
  {
   "cell_type": "code",
   "execution_count": 1,
   "metadata": {},
   "outputs": [],
   "source": [
    "import underworld as uw\n",
    "from underworld import function as fn\n",
    "from underworld.scaling import units as u\n",
    "from underworld.scaling import dimensionalise, non_dimensionalise\n",
    "from underworld.scaling import non_dimensionalise as nd\n",
    "from underworld.scaling import dimensionalise as dim\n",
    "\n",
    "import math\n",
    "import glucifer\n",
    "import numpy as np\n",
    "import os\n",
    "import scipy\n",
    "\n",
    "import model_properties as modprop\n",
    "import material_properties as matprop"
   ]
  },
  {
   "cell_type": "code",
   "execution_count": 2,
   "metadata": {},
   "outputs": [],
   "source": [
    "outputPath = os.path.join(os.path.abspath(\".\"),\"output/\")\n",
    "\n",
    "if uw.rank==0:\n",
    "    if not os.path.exists(outputPath):\n",
    "        os.makedirs(outputPath)\n",
    "uw.barrier()"
   ]
  },
  {
   "cell_type": "markdown",
   "metadata": {},
   "source": [
    "**Scaling**"
   ]
  },
  {
   "cell_type": "code",
   "execution_count": 3,
   "metadata": {},
   "outputs": [],
   "source": [
    "# reference values\n",
    "ref_length          = 1000. * u.kilometer\n",
    "ref_density         = matprop.ref_density\n",
    "ref_viscosity       = 1e20 * u.pascal * u.second \n",
    "ref_temperature     = modprop.Tint - modprop.Tsurf"
   ]
  },
  {
   "cell_type": "code",
   "execution_count": 4,
   "metadata": {},
   "outputs": [],
   "source": [
    "# # stokes buoyancy, velocity, etc. for scaling\n",
    "# ref_plate_thickness = 100. * u.kilometer\n",
    "# potential_energy    = ref_density * modprop.gravity * ref_plate_thickness\n",
    "# stokes_buoyancy     = potential_energy / ref_viscosity\n",
    "# stokes_velocity     = stokes_buoyancy * ref_length\n",
    "# ref_velocity        = stokes_velocity"
   ]
  },
  {
   "cell_type": "code",
   "execution_count": 5,
   "metadata": {},
   "outputs": [],
   "source": [
    "KL = ref_length            # length scale\n",
    "KM = ref_density * KL**3          # mass scale \n",
    "Kt = 1./ (ref_viscosity / KM * KL)\n",
    "KT = ref_temperature\n",
    "\n",
    "scaling_coefficients = uw.scaling.get_coefficients()\n",
    "scaling_coefficients[\"[length]\"] = KL.to_base_units()\n",
    "scaling_coefficients[\"[time]\"]   = Kt.to_base_units()\n",
    "scaling_coefficients[\"[mass]\"]   = KM.to_base_units()\n",
    "scaling_coefficients[\"[temperature]\"]   = KT.to_base_units()"
   ]
  },
  {
   "cell_type": "code",
   "execution_count": 6,
   "metadata": {},
   "outputs": [
    {
     "data": {
      "text/html": [
       "<table><tr><td>[mass]</td><td>1.325847e+20 kilogram</td></tr><tr><td>[length]</td><td>1000000.0 meter</td></tr><tr><td>[temperature]</td><td>1299.85 kelvin</td></tr><tr><td>[time]</td><td>1.325847e-06 second</td></tr><tr><td>[substance]</td><td>1.0 mole</td></tr></table>"
      ],
      "text/plain": [
       "{'[length]': <Quantity(1000000.0, 'meter')>,\n",
       " '[mass]': <Quantity(1.325847e+20, 'kilogram')>,\n",
       " '[substance]': <Quantity(1.0, 'mole')>,\n",
       " '[temperature]': <Quantity(1299.85, 'kelvin')>,\n",
       " '[time]': <Quantity(1.325847e-06, 'second')>}"
      ]
     },
     "execution_count": 6,
     "metadata": {},
     "output_type": "execute_result"
    }
   ],
   "source": [
    "scaling_coefficients"
   ]
  },
  {
   "cell_type": "code",
   "execution_count": 7,
   "metadata": {},
   "outputs": [
    {
     "name": "stdout",
     "output_type": "stream",
     "text": [
      "('viscosity_scaling = ', <Quantity(1e+20, 'pascal * second')>)\n",
      "('density_scale     = ', <Quantity(132.5847, 'kilogram / meter ** 3')>)\n",
      "('time_scale        = ', <Quantity(4.20144535327e-14, 'year')>)\n",
      "('pressure_scale    = ', <Quantity(7.54234840068e+25, 'pascal')>)\n"
     ]
    }
   ],
   "source": [
    "viscosity_scaling = dimensionalise(1.0, u.pascal*u.second)\n",
    "print('viscosity_scaling = ', viscosity_scaling)\n",
    "\n",
    "density_scale = dimensionalise(1., u.kilogram/u.meter**3)\n",
    "print('density_scale     = ', density_scale)\n",
    "\n",
    "time_scale = dimensionalise(1., u.years)\n",
    "print('time_scale        = ', time_scale)\n",
    "\n",
    "pressure_scale = dimensionalise(1., u.pascal)\n",
    "print('pressure_scale    = ', pressure_scale)"
   ]
  },
  {
   "cell_type": "markdown",
   "metadata": {},
   "source": [
    "**Setup parameters**\n"
   ]
  },
  {
   "cell_type": "code",
   "execution_count": 8,
   "metadata": {},
   "outputs": [],
   "source": [
    "xRes = 256 # 32 # 256  \n",
    "yRes =  96 # 64 # 96\n",
    "zRes =  96 # 32 # 96\n",
    "dim = 2"
   ]
  },
  {
   "cell_type": "code",
   "execution_count": 9,
   "metadata": {},
   "outputs": [],
   "source": [
    "# Domain\n",
    "boxLength = 6000.0 * u.kilometer\n",
    "boxHeight =  800.0 * u.kilometer\n",
    "boxWidth  = 3000.0 * u.kilometer"
   ]
  },
  {
   "cell_type": "markdown",
   "metadata": {},
   "source": [
    "**Create mesh and finite element variables**"
   ]
  },
  {
   "cell_type": "code",
   "execution_count": 10,
   "metadata": {},
   "outputs": [],
   "source": [
    "if dim==2:\n",
    "    elementRes  = (xRes, yRes)\n",
    "    minCoord    = (0., -nd(boxHeight)) \n",
    "    maxCoord    = (nd(boxLength), 0.)\n",
    "else:\n",
    "    elementRes  = (xRes, yRes, zRes)\n",
    "    minCoord    = (0., -nd(boxHeight), 0.) \n",
    "    maxCoord    = (nd(boxLength), 0., nd(boxWidth))\n",
    "\n",
    "mesh = uw.mesh.FeMesh_Cartesian( elementType = (\"Q1/dQ0\"),\n",
    "                                 elementRes  = elementRes, \n",
    "                                 minCoord    = minCoord,\n",
    "                                 maxCoord    = maxCoord,\n",
    "                               ) "
   ]
  },
  {
   "cell_type": "code",
   "execution_count": 11,
   "metadata": {},
   "outputs": [],
   "source": [
    "velocityField   = uw.mesh.MeshVariable( mesh=mesh,         nodeDofCount=dim )\n",
    "pressureField   = uw.mesh.MeshVariable( mesh=mesh.subMesh, nodeDofCount=1 )"
   ]
  },
  {
   "cell_type": "markdown",
   "metadata": {},
   "source": [
    "**Create a particle swarm**"
   ]
  },
  {
   "cell_type": "code",
   "execution_count": 12,
   "metadata": {},
   "outputs": [],
   "source": [
    "swarm       = uw.swarm.Swarm( mesh=mesh )\n",
    "swarmLayout = uw.swarm.layouts.PerCellSpaceFillerLayout( swarm=swarm, particlesPerCell=20 )\n",
    "swarm.populate_using_layout( layout=swarmLayout )\n",
    "\n",
    "materialIndex = swarm.add_variable( dataType=\"int\", count=1 )"
   ]
  },
  {
   "cell_type": "code",
   "execution_count": 13,
   "metadata": {},
   "outputs": [],
   "source": [
    "# I assume here the origin is a the top, front, middle\n",
    "# 'middle' being the slab hinge at top, front\n",
    "pert = 0.2  # nondimensional pert \n",
    "slab_xStart = 2500. * u.kilometer\n",
    "slab_dx = 3000.0 * u.kilometer  # was 7000 km in Moresi 2014\n",
    "slab_dy =  100.0 * u.kilometer\n",
    "slab_dz = 3000.0 * u.kilometer # this is the entire domain width\n",
    "slab_layers = 4\n",
    "\n",
    "slab_crust = 7.0 * u.kilometer"
   ]
  },
  {
   "cell_type": "code",
   "execution_count": 14,
   "metadata": {},
   "outputs": [],
   "source": [
    "backarc_dx = 1200. * u.kilometer\n",
    "backarc_dy =  100. * u.kilometer\n",
    "backarc_xStart = slab_xStart - backarc_dx\n",
    "backarc_layers = 2\n",
    "\n",
    "trans_dx =  350. * u.kilometer\n",
    "trans_dy =  100. * u.kilometer\n",
    "trans_xStart = slab_xStart - backarc_dx - trans_dx\n",
    "trans_layers = 2\n",
    "\n",
    "craton_dx = 750. * u.kilometer\n",
    "craton_dy = 150. * u.kilometer\n",
    "craton_xStart = slab_xStart - backarc_dx - trans_dx - craton_dx\n",
    "craton_layers = 2\n",
    "\n",
    "ribbon_dx =  500. * u.kilometer\n",
    "ribbon_dy =   50. * u.kilometer\n",
    "ribbon_dz = 1500. * u.kilometer \n",
    "ribbon_xStart = slab_xStart + 500. * u.kilometer\n",
    "\n",
    "bouyStrip_dx = 500. * u.kilometer\n",
    "bouyStrip_dy =  50. * u.kilometer\n",
    "bouyStrip_xStart = slab_xStart + slab_dx - bouyStrip_dx"
   ]
  },
  {
   "cell_type": "code",
   "execution_count": 15,
   "metadata": {},
   "outputs": [],
   "source": [
    "def slabGeo(x, y, dx, dy,):\n",
    "    slabShape = np.array([ (x,y), (x+dx,y), (x+dx,y-dy), (x,y-dy), (x-pert,y-dy-pert), (x-pert,y-pert) ])\n",
    "    return fn.shape.Polygon(slabShape)"
   ]
  },
  {
   "cell_type": "code",
   "execution_count": 16,
   "metadata": {},
   "outputs": [],
   "source": [
    "def backArcGeo(x, y, dx, dy,):\n",
    "    backArcShape = np.array([ (x,y), (x+dx,y), (x+dx-pert/2.,y-dy), (x,y-dy)])\n",
    "    return fn.shape.Polygon(backArcShape)"
   ]
  },
  {
   "cell_type": "code",
   "execution_count": 17,
   "metadata": {},
   "outputs": [],
   "source": [
    "def boxGeo(x, y, dx, dy):\n",
    "    boxShape = np.array([(x,y), (x+dx,y), (x+dx,y-dy), (x,y-dy)]) \n",
    "    return (fn.shape.Polygon(boxShape))"
   ]
  },
  {
   "cell_type": "code",
   "execution_count": 18,
   "metadata": {},
   "outputs": [],
   "source": [
    "top50km = fn.input()[1] > nd(-50.*u.kilometer)\n",
    "fn_top50kmGeo = fn.branching.conditional( ( (top50km,  matprop.subplate1['index']),\n",
    "                                            (   True,  matprop.subplate2['index']),  \n",
    "                                          )\n",
    "                                        )\n",
    "\n",
    "outside_ribbon = fn.input()[2] > nd(ribbon_dz)\n",
    "fn_ribbonGeo = fn.branching.conditional( ( (outside_ribbon, fn_top50kmGeo  ),\n",
    "                                           (          True, matprop.ribbon['index']), \n",
    "                                         )\n",
    "                                       )  "
   ]
  },
  {
   "cell_type": "code",
   "execution_count": 19,
   "metadata": {},
   "outputs": [],
   "source": [
    "# Set materials\n",
    "conditions = [ \n",
    "               ( fn.input()[1] < nd( -600.0 * 10**3 * u.meter ), matprop.lm['index']) ,\n",
    "\n",
    "                # define ribbon gemetry\n",
    "#               ( boxGeo(nd(ribbon_xStart), 0., nd(ribbon_dx), nd(ribbon_dy)), matprop.ribbon['index']),\n",
    "               #( boxGeo(nd(ribbon_xStart), 0., nd(ribbon_dx), nd(ribbon_dy)), fn_ribbonGeo),\n",
    "\n",
    "                # define buoyant strip gemetry\n",
    "               ( boxGeo(nd(bouyStrip_xStart), 0., nd(bouyStrip_dx), nd(bouyStrip_dy)), matprop.buoyStrip['index']),\n",
    "\n",
    "                # define slab geometery\n",
    "               ( slabGeo(nd(slab_xStart), -0.*nd(slab_crust)         , nd(slab_dx), nd(slab_dy)/slab_layers), matprop.subplate1['index']),\n",
    "               ( slabGeo(nd(slab_xStart), -1.*nd(slab_dy)/slab_layers, nd(slab_dx), nd(slab_dy)/slab_layers), matprop.subplate2['index']),\n",
    "               ( slabGeo(nd(slab_xStart), -2.*nd(slab_dy)/slab_layers, nd(slab_dx), nd(slab_dy)/slab_layers), matprop.subplate3['index']),\n",
    "               ( slabGeo(nd(slab_xStart), -3.*nd(slab_dy)/slab_layers, nd(slab_dx), nd(slab_dy)/slab_layers), matprop.subplate4['index']),\n",
    "#                 # dedine back arc geometry\n",
    "#                ( backArcGeo(nd(backarc_xStart),  -0.*nd(backarc_dy)/backarc_layers, nd(backarc_dx), nd(backarc_dy)), matprop.backArc1['index']),\n",
    "#                ( backArcGeo(nd(backarc_xStart),  -1.*nd(backarc_dy)/backarc_layers, nd(backarc_dx), nd(backarc_dy)), matprop.backArc2['index']),\n",
    "#                 # define transition gemetry\n",
    "#                ( boxGeo(nd(trans_xStart),  -0.*nd(trans_dy)/trans_layers, nd(trans_dx), nd(trans_dy)), matprop.trans1['index']),\n",
    "#                ( boxGeo(nd(trans_xStart),  -1.*nd(trans_dy)/trans_layers, nd(trans_dx), nd(trans_dy)), matprop.trans2['index']),\n",
    "#                 # define craton gemetry\n",
    "#                ( boxGeo(nd(craton_xStart), -0.*nd(craton_dy)/craton_layers, nd(craton_dx), nd(craton_dy)), matprop.craton1['index']),\n",
    "#                ( boxGeo(nd(craton_xStart), -1.*nd(craton_dy)/craton_layers, nd(craton_dx), nd(craton_dy)), matprop.craton2['index']),\n",
    "                # otherwise upper mantle!\n",
    "                ( True, matprop.um['index']),\n",
    "             ] "
   ]
  },
  {
   "cell_type": "code",
   "execution_count": 20,
   "metadata": {},
   "outputs": [],
   "source": [
    "materialIndex.data[:] = fn.branching.conditional( conditions ).evaluate(swarm)"
   ]
  },
  {
   "cell_type": "code",
   "execution_count": 21,
   "metadata": {},
   "outputs": [],
   "source": [
    "figsize=(1000,300)"
   ]
  },
  {
   "cell_type": "code",
   "execution_count": 22,
   "metadata": {
    "scrolled": true
   },
   "outputs": [
    {
     "data": {
      "text/html": [
       "<img src='data:image/png;base64,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'>"
      ],
      "text/plain": [
       "<IPython.core.display.HTML object>"
      ]
     },
     "metadata": {},
     "output_type": "display_data"
    }
   ],
   "source": [
    "materialFilter = materialIndex > 0\n",
    "figSwarm = glucifer.Figure(figsize=figsize)\n",
    "swarmPlot = glucifer.objects.Points(swarm, materialIndex, materialFilter, colours='paired', fn_size=2., discrete=True)\n",
    "figSwarm.append( swarmPlot )\n",
    "figSwarm.show()"
   ]
  },
  {
   "cell_type": "code",
   "execution_count": 23,
   "metadata": {
    "scrolled": false
   },
   "outputs": [],
   "source": [
    "# if not glucifer.lavavu: raise KeyboardInterrupt #Stop notebook here if no vis enabled\n",
    "# lv = figSwarm.window()\n",
    "# lv.rotate(30)\n",
    "# lv.zoom(-7)\n",
    "# lv.redisplay()\n",
    "# lv.axis()"
   ]
  },
  {
   "cell_type": "code",
   "execution_count": 29,
   "metadata": {},
   "outputs": [],
   "source": [
    "##Set cohesion (max stress) fn\n",
    "cohesionMap = {\n",
    "#                              matprop.um['index'] : nd(matprop.um['cohesion']), \n",
    "#                              matprop.lm['index'] : nd(matprop.lm['cohesion']), \n",
    "#                       matprop.subplate1['index'] : nd(matprop.subplate1['cohesion']), \n",
    "#                       matprop.subplate2['index'] : nd(matprop.subplate2['cohesion']), \n",
    "#                       matprop.subplate3['index'] : nd(matprop.subplate3['cohesion'])\n",
    "#                       matprop.subplate4['index'] : nd(matprop.subplate4['cohesion']), \n",
    "                             matprop.um['index'] : 1e3, \n",
    "                             matprop.lm['index'] : 1e3,\n",
    "                      matprop.subplate1['index'] : 0.01, \n",
    "                      matprop.subplate1['index'] : 0.1,\n",
    "                      matprop.subplate2['index'] : 0.03, \n",
    "                      matprop.subplate3['index'] : 0.1, \n",
    "\n",
    "                      matprop.subplate4['index'] : 1e3, \n",
    "                       matprop.backArc1['index'] : nd(matprop.backArc1['cohesion']), \n",
    "                       matprop.backArc2['index'] : nd(matprop.backArc2['cohesion']), \n",
    "                         matprop.trans1['index'] : nd(matprop.trans1['cohesion']), \n",
    "                         matprop.trans2['index'] : nd(matprop.trans2['cohesion']), \n",
    "                        matprop.craton1['index'] : nd(matprop.craton1['cohesion']), \n",
    "                        matprop.craton2['index'] : nd(matprop.craton2['cohesion']), \n",
    "                         matprop.ribbon['index'] : nd(matprop.ribbon['cohesion']), \n",
    "#                      matprop.buoyStrip['index'] : nd(matprop.buoyStrip['cohesion']),\n",
    "                      matprop.buoyStrip['index'] : 1e3,\n",
    "    \n",
    "                    }\n",
    "cohesionFn = fn.branching.map( fn_key = materialIndex, mapping = cohesionMap )"
   ]
  },
  {
   "cell_type": "code",
   "execution_count": 30,
   "metadata": {},
   "outputs": [
    {
     "data": {
      "text/html": [
       "<img src='data:image/png;base64,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'>"
      ],
      "text/plain": [
       "<IPython.core.display.HTML object>"
      ]
     },
     "metadata": {},
     "output_type": "display_data"
    }
   ],
   "source": [
    "figCohesion = glucifer.Figure(figsize=figsize, axis=True)\n",
    "figCohesion.append( glucifer.objects.Points(swarm, cohesionFn, colours='dem1', fn_size=2.))#, logScale=True) )\n",
    "figCohesion.show()"
   ]
  },
  {
   "cell_type": "code",
   "execution_count": 31,
   "metadata": {},
   "outputs": [],
   "source": [
    "##Set linear viscosity fn\n",
    "linearViscosityMap = {       matprop.um['index'] : nd(matprop.um['viscosity']), \n",
    "                             matprop.lm['index'] : nd(matprop.lm['viscosity']), \n",
    "                      matprop.subplate1['index'] : nd(matprop.subplate1['viscosity']), \n",
    "                      matprop.subplate2['index'] : nd(matprop.subplate2['viscosity']), \n",
    "                      matprop.subplate3['index'] : nd(matprop.subplate3['viscosity']), \n",
    "                      matprop.subplate4['index'] : nd(matprop.subplate4['viscosity']), \n",
    "                       matprop.backArc1['index'] : nd(matprop.backArc1['viscosity']), \n",
    "                       matprop.backArc2['index'] : nd(matprop.backArc2['viscosity']), \n",
    "                         matprop.trans1['index'] : nd(matprop.trans1['viscosity']), \n",
    "                         matprop.trans2['index'] : nd(matprop.trans2['viscosity']), \n",
    "                        matprop.craton1['index'] : nd(matprop.craton1['viscosity']), \n",
    "                        matprop.craton2['index'] : nd(matprop.craton2['viscosity']), \n",
    "                         matprop.ribbon['index'] : nd(matprop.ribbon['viscosity']), \n",
    "                      matprop.buoyStrip['index'] : nd(matprop.buoyStrip['viscosity']),\n",
    "                    }\n",
    "\n",
    "\n",
    "\n",
    "linearViscosityFn = fn.branching.map( fn_key = materialIndex, mapping = linearViscosityMap )"
   ]
  },
  {
   "cell_type": "code",
   "execution_count": 32,
   "metadata": {},
   "outputs": [],
   "source": [
    "# we are now working in nd viscosity\n",
    "minViscosity = 1.  #* u.pascal * u.second # * ref_viscosity,\n",
    "maxViscosity = 1.0e5  * u.pascal * u.second # * ref_viscosity,\n",
    "\n",
    "\n",
    "strainRate_2ndInvariant = fn.tensor.second_invariant( fn.tensor.symmetric( velocityField.fn_gradient ))\n",
    "\n",
    "# This is what we're looking for...\n",
    "#cohesionFn = 0.06\n",
    "vonMises    = 0.5 * cohesionFn / (strainRate_2ndInvariant + 1.0e-18)     \n",
    "viscosityFn = fn.exception.SafeMaths( fn.misc.max(minViscosity, fn.misc.min(vonMises, linearViscosityFn) ))"
   ]
  },
  {
   "cell_type": "code",
   "execution_count": 33,
   "metadata": {},
   "outputs": [
    {
     "data": {
      "text/html": [
       "<img src='data:image/png;base64,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'>"
      ],
      "text/plain": [
       "<IPython.core.display.HTML object>"
      ]
     },
     "metadata": {},
     "output_type": "display_data"
    }
   ],
   "source": [
    "figViscosity = glucifer.Figure(figsize=figsize, axis=True)\n",
    "figViscosity.append( glucifer.objects.Points(swarm, viscosityFn, colours='dem1', fn_size=2.))#, logScale=True) )\n",
    "figViscosity.show()"
   ]
  },
  {
   "cell_type": "code",
   "execution_count": 34,
   "metadata": {
    "scrolled": true
   },
   "outputs": [],
   "source": [
    "# if not glucifer.lavavu: raise KeyboardInterrupt #Stop notebook here if no vis enabled\n",
    "# lv = figViscosity.window()\n",
    "# lv.rotate(30)\n",
    "# lv.zoom(-7)\n",
    "# lv.redisplay()\n",
    "# lv.axis()"
   ]
  },
  {
   "cell_type": "markdown",
   "metadata": {},
   "source": [
    "**Define temperature and density functions**"
   ]
  },
  {
   "cell_type": "code",
   "execution_count": 35,
   "metadata": {},
   "outputs": [],
   "source": [
    "coord = fn.input()\n",
    "depthFn = -1.0 * boxHeight * coord[1] "
   ]
  },
  {
   "cell_type": "code",
   "execution_count": 36,
   "metadata": {},
   "outputs": [],
   "source": [
    "kappa   = 1e-6   * u.meter**2 / u.second \n",
    "# for oceanic lithosphere thickness\n",
    "def half_space_cooling(depth,age):\n",
    "    return nd(modprop.Tsurf) + nd(modprop.Tint-modprop.Tsurf) * fn.math.erf(depth/(2*np.sqrt(nd(age*kappa))))"
   ]
  },
  {
   "cell_type": "code",
   "execution_count": 37,
   "metadata": {},
   "outputs": [],
   "source": [
    "# age of oceanic lithosphere\n",
    "age = 80. * 10**6 * u.year"
   ]
  },
  {
   "cell_type": "code",
   "execution_count": 38,
   "metadata": {},
   "outputs": [],
   "source": [
    "# temperature profile of lithosphere\n",
    "temperature = half_space_cooling(nd(depthFn), nd(age))"
   ]
  },
  {
   "cell_type": "markdown",
   "metadata": {},
   "source": [
    "**Eclogite transition**\n",
    "\n",
    "We assume that the oceanic crust transforms instantaneously and completely to eclogite at a depth of 150 km (density 3,500 kg m23 at the surface temperature)."
   ]
  },
  {
   "cell_type": "code",
   "execution_count": 39,
   "metadata": {},
   "outputs": [],
   "source": [
    "below_150km = fn.input()[1] < nd(-300.*u.kilometers)\n",
    "fn_conditional = fn.branching.conditional( ( ( below_150km, nd(matprop.subplate1['density2'])),\n",
    "                                             (        True, nd(matprop.subplate1['density'])), \n",
    "                                           ) )"
   ]
  },
  {
   "cell_type": "code",
   "execution_count": 40,
   "metadata": {},
   "outputs": [],
   "source": [
    "#Set density fn\n",
    "rhoMap = {                   matprop.um['index'] : nd(matprop.um['density']), \n",
    "                             matprop.lm['index'] : nd(matprop.lm['density']), \n",
    "                      matprop.subplate1['index'] : fn_conditional,\n",
    "                      matprop.subplate2['index'] : nd(matprop.subplate2['density']), \n",
    "                      matprop.subplate3['index'] : nd(matprop.subplate3['density']), \n",
    "                      matprop.subplate4['index'] : nd(matprop.subplate4['density']), \n",
    "                       matprop.backArc1['index'] : nd(matprop.backArc1['density']), \n",
    "                       matprop.backArc2['index'] : nd(matprop.backArc2['density']), \n",
    "                         matprop.trans1['index'] : nd(matprop.trans1['density']), \n",
    "                         matprop.trans2['index'] : nd(matprop.trans2['density']), \n",
    "                        matprop.craton1['index'] : nd(matprop.craton1['density']), \n",
    "                        matprop.craton2['index'] : nd(matprop.craton2['density']), \n",
    "                         matprop.ribbon['index'] : nd(matprop.ribbon['density']), \n",
    "                      matprop.buoyStrip['index'] : nd(matprop.buoyStrip['density']),\n",
    "                    }\n",
    "\n",
    "rhoFn = fn.branching.map( fn_key = materialIndex, mapping = rhoMap )"
   ]
  },
  {
   "cell_type": "code",
   "execution_count": 41,
   "metadata": {},
   "outputs": [],
   "source": [
    "densityFn = (rhoFn - rhoFn * nd(ref_temperature) * nd(matprop.alpha))"
   ]
  },
  {
   "cell_type": "code",
   "execution_count": 42,
   "metadata": {},
   "outputs": [
    {
     "data": {
      "text/html": [
       "<img src='data:image/png;base64,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'>"
      ],
      "text/plain": [
       "<IPython.core.display.HTML object>"
      ]
     },
     "metadata": {},
     "output_type": "display_data"
    }
   ],
   "source": [
    "figDensity = glucifer.Figure(figsize=figsize)\n",
    "figDensity.append( glucifer.objects.Points(swarm, densityFn, colours='dem1'))\n",
    "figDensity.show()"
   ]
  },
  {
   "cell_type": "markdown",
   "metadata": {},
   "source": [
    "**Set the density function, vertical unit vector and Buoyancy Force function**\n"
   ]
  },
  {
   "cell_type": "code",
   "execution_count": 43,
   "metadata": {},
   "outputs": [],
   "source": [
    "# Define our vertical unit vector using a python tuple\n",
    "if dim == 2:\n",
    "    z_hat = ( 0.0, 1.0)\n",
    "else:\n",
    "    z_hat = ( 0.0, 1.0, 0.0 )    \n",
    "\n",
    "# now create a buoyancy force vector\n",
    "buoyancyFn = 1.0 * densityFn * z_hat"
   ]
  },
  {
   "cell_type": "markdown",
   "metadata": {},
   "source": [
    "**Set initial and boundary conditions**"
   ]
  },
  {
   "cell_type": "code",
   "execution_count": 44,
   "metadata": {},
   "outputs": [],
   "source": [
    "# set initial conditions (and boundary values)\n",
    "if dim==2:\n",
    "    velocityField.data[:] = [0.,0.]\n",
    "else:\n",
    "    velocityField.data[:] = [0.,0.,0.]\n",
    "pressureField.data[:] = 0.\n",
    "\n",
    "# send boundary condition information to underworld\n",
    "iWalls = mesh.specialSets[\"MinI_VertexSet\"] + mesh.specialSets[\"MaxI_VertexSet\"]\n",
    "jWalls = mesh.specialSets[\"MinJ_VertexSet\"] + mesh.specialSets[\"MaxJ_VertexSet\"]\n",
    "if dim==2:\n",
    "    freeSlipBC = uw.conditions.DirichletCondition( variable        = velocityField, \n",
    "                                                   indexSetsPerDof = ( iWalls, jWalls) ) \n",
    "    \n",
    "if dim==3:\n",
    "    kWalls = mesh.specialSets[\"MinK_VertexSet\"] + mesh.specialSets[\"MaxK_VertexSet\"]    \n",
    "    freeSlipBC = uw.conditions.DirichletCondition( variable        = velocityField, \n",
    "                                                   indexSetsPerDof = ( iWalls, jWalls, kWalls) ) "
   ]
  },
  {
   "cell_type": "markdown",
   "metadata": {},
   "source": [
    "**System Setup**"
   ]
  },
  {
   "cell_type": "code",
   "execution_count": 45,
   "metadata": {},
   "outputs": [],
   "source": [
    "# Initial linear slab viscosity setup\n",
    "stokes = uw.systems.Stokes(    velocityField = velocityField, \n",
    "                               pressureField = pressureField,\n",
    "                               voronoi_swarm = swarm, \n",
    "                               conditions    = freeSlipBC,\n",
    "                               fn_viscosity  = viscosityFn, \n",
    "                               fn_bodyforce  = buoyancyFn )\n",
    "# Create solver & solve\n",
    "solver = uw.systems.Solver(stokes)"
   ]
  },
  {
   "cell_type": "code",
   "execution_count": 46,
   "metadata": {},
   "outputs": [],
   "source": [
    "# use \"lu\" direct solve if running in serial\n",
    "if(uw.nProcs==1):\n",
    "    solver.set_inner_method(\"lu\")"
   ]
  },
  {
   "cell_type": "code",
   "execution_count": 47,
   "metadata": {},
   "outputs": [],
   "source": [
    "advector = uw.systems.SwarmAdvector( swarm=swarm, velocityField=velocityField, order=2 )"
   ]
  },
  {
   "cell_type": "markdown",
   "metadata": {},
   "source": [
    "**Analysis tools**"
   ]
  },
  {
   "cell_type": "code",
   "execution_count": 48,
   "metadata": {},
   "outputs": [],
   "source": [
    "#The root mean square Velocity\n",
    "velSquared = uw.utils.Integral( fn.math.dot(velocityField,velocityField), mesh )\n",
    "area = uw.utils.Integral( 1., mesh )\n",
    "Vrms = math.sqrt( velSquared.evaluate()[0]/area.evaluate()[0] )"
   ]
  },
  {
   "cell_type": "markdown",
   "metadata": {},
   "source": [
    "**May need to do this within time step loop**"
   ]
  },
  {
   "cell_type": "code",
   "execution_count": 49,
   "metadata": {},
   "outputs": [],
   "source": [
    "# # update within time step loop\n",
    "# densityFn = fn.branching.conditional( eclogite_conditions ).evaluate(swarm)"
   ]
  },
  {
   "cell_type": "markdown",
   "metadata": {},
   "source": [
    "**Checkpoint**"
   ]
  },
  {
   "cell_type": "code",
   "execution_count": 50,
   "metadata": {},
   "outputs": [],
   "source": [
    "# save mesh\n",
    "meshHnd = mesh.save(outputPath+'mesh.h5')\n",
    " "
   ]
  },
  {
   "cell_type": "code",
   "execution_count": 51,
   "metadata": {},
   "outputs": [],
   "source": [
    "#swarm.save(filename='./swarm.h5')\n",
    "step = 0\n",
    "swarmHnd        = swarm.save(        outputPath+'swarm.'       + str(step).zfill(5) +'.h5')"
   ]
  },
  {
   "cell_type": "code",
   "execution_count": 52,
   "metadata": {},
   "outputs": [],
   "source": [
    "   # define checkpointing file\n",
    "def checkpoint():\n",
    "    # save swarms\n",
    "    swarmHnd        = swarm.save(        outputPath+'swarm.'       + str(step).zfill(5) +'.h5')\n",
    "\n",
    "    # save swarm variables\n",
    "    materialIndexHnd  = materialIndex.save(  outputPath +'materialIndex.'  + str(step).zfill(5) +'.h5')\n",
    "    \n",
    "    # save mesh variable\n",
    "    velocityHnd = velocityField.save(outputPath+'velocityField.'+ str(step).zfill(5) +'.h5', meshHnd)\n",
    "    pressureHnd = pressureField.save(outputPath+'pressureField.'+ str(step).zfill(5) +'.h5', meshHnd)\n",
    "\n",
    "    # and the xdmf files\n",
    "    velocityField.xdmf(  outputPath+'velocityField.' +str(step).zfill(5)+'.xdmf',velocityHnd,      \"velocity\",      meshHnd, \"mesh\", modeltime=time)\n",
    "    pressureField.xdmf(  outputPath+'pressureField.' +str(step).zfill(5)+'.xdmf',pressureHnd,      \"pressure\",      meshHnd, \"mesh\", modeltime=time)\n",
    "    materialIndex.xdmf(  outputPath+'materialIndex.' +str(step).zfill(5)+'.xdmf',materialIndexHnd, \"materialIndex\", swarmHnd,\"swarm\",modeltime=time)\n"
   ]
  },
  {
   "cell_type": "markdown",
   "metadata": {},
   "source": [
    "Main simulation loop\n",
    "=======\n",
    "\n",
    "The main time stepping loop begins here. Inside the time loop the velocity field is solved for via the Stokes system solver and then the swarm is advected using the advector integrator. Basic statistics are output to screen each timestep."
   ]
  },
  {
   "cell_type": "code",
   "execution_count": 53,
   "metadata": {},
   "outputs": [],
   "source": [
    "time = 0.  # Initial time\n",
    "step = 0   # Initial timestep\n",
    "maxSteps = 10      # Maximum timesteps (201 is recommended)\n",
    "steps_output = 1   # output every 10 timesteps\n",
    "checkoutput  = 1"
   ]
  },
  {
   "cell_type": "code",
   "execution_count": 54,
   "metadata": {},
   "outputs": [],
   "source": [
    "# define an update function\n",
    "def update():\n",
    "    # Retrieve the maximum possible timestep for the advection system.\n",
    "    dt = advector.get_max_dt()\n",
    "    # Advect using this timestep size.\n",
    "    advector.integrate(dt)\n",
    "    return time+dt, step+1"
   ]
  },
  {
   "cell_type": "code",
   "execution_count": 55,
   "metadata": {},
   "outputs": [],
   "source": [
    "solver.set_inner_method('lu')"
   ]
  },
  {
   "cell_type": "code",
   "execution_count": 73,
   "metadata": {
    "scrolled": false
   },
   "outputs": [
    {
     "name": "stdout",
     "output_type": "stream",
     "text": [
      "step =     70; time = 5.475e+02; Vrms = 2.739e-03, time(yr) = 2.300e-11;\n",
      "step =     71; time = 5.476e+02; Vrms = 8.104e-05, time(yr) = 2.301e-11;\n",
      "step =     72; time = 5.613e+02; Vrms = 3.633e-03, time(yr) = 2.358e-11;\n",
      "step =     73; time = 5.614e+02; Vrms = 8.092e-05, time(yr) = 2.359e-11;\n",
      "step =     74; time = 5.752e+02; Vrms = 3.935e-03, time(yr) = 2.417e-11;\n",
      "step =     75; time = 5.753e+02; Vrms = 8.156e-05, time(yr) = 2.417e-11;\n",
      "step =     76; time = 5.891e+02; Vrms = 4.288e-03, time(yr) = 2.475e-11;\n",
      "step =     77; time = 5.892e+02; Vrms = 8.184e-05, time(yr) = 2.475e-11;\n",
      "step =     78; time = 6.030e+02; Vrms = 5.487e-03, time(yr) = 2.534e-11;\n",
      "step =     79; time = 6.031e+02; Vrms = 1.532e-04, time(yr) = 2.534e-11;\n",
      "step =     80; time = 6.044e+02; Vrms = 7.724e-05, time(yr) = 2.539e-11;\n",
      "step =     81; time = 6.192e+02; Vrms = 3.872e-03, time(yr) = 2.601e-11;\n",
      "step =     82; time = 6.193e+02; Vrms = 8.217e-05, time(yr) = 2.602e-11;\n",
      "step =     83; time = 6.333e+02; Vrms = 6.657e-03, time(yr) = 2.661e-11;\n",
      "step =     84; time = 6.333e+02; Vrms = 9.726e-05, time(yr) = 2.661e-11;\n",
      "step =     85; time = 6.355e+02; Vrms = 7.744e-05, time(yr) = 2.670e-11;\n",
      "step =     86; time = 6.505e+02; Vrms = 4.415e-03, time(yr) = 2.733e-11;\n",
      "step =     87; time = 6.505e+02; Vrms = 8.303e-05, time(yr) = 2.733e-11;\n",
      "step =     88; time = 6.644e+02; Vrms = 7.388e-03, time(yr) = 2.791e-11;\n",
      "step =     89; time = 6.645e+02; Vrms = 1.268e-04, time(yr) = 2.792e-11;\n",
      "step =     90; time = 6.662e+02; Vrms = 7.872e-05, time(yr) = 2.799e-11;\n",
      "step =     91; time = 6.809e+02; Vrms = 5.651e-03, time(yr) = 2.861e-11;\n",
      "step =     92; time = 6.809e+02; Vrms = 8.299e-05, time(yr) = 2.861e-11;\n",
      "step =     93; time = 6.947e+02; Vrms = 8.481e-03, time(yr) = 2.919e-11;\n",
      "step =     94; time = 6.947e+02; Vrms = 8.483e-04, time(yr) = 2.919e-11;\n",
      "step =     95; time = 6.951e+02; Vrms = 8.093e-05, time(yr) = 2.920e-11;\n",
      "step =     96; time = 7.087e+02; Vrms = 3.548e-03, time(yr) = 2.978e-11;\n",
      "step =     97; time = 7.088e+02; Vrms = 8.481e-05, time(yr) = 2.978e-11;\n",
      "step =     98; time = 7.221e+02; Vrms = 5.701e-03, time(yr) = 3.034e-11;\n",
      "step =     99; time = 7.222e+02; Vrms = 2.137e-04, time(yr) = 3.034e-11;\n"
     ]
    }
   ],
   "source": [
    "while step < maxSteps*10:\n",
    "    # Solve non linear Stokes system\n",
    "    solver.solve(nonLinearIterate=True)#, print_stats=True)\n",
    "    # output figure to file at intervals = steps_output\n",
    "    if step % steps_output == 0 or step == maxSteps-1:\n",
    "        #Important to set the timestep for the store object here or will overwrite previous step\n",
    "        figSwarm.save(    outputPath + \"particle\"    + str(step).zfill(4))\n",
    "        figViscosity.save(   outputPath + \"viscosity\"   + str(step).zfill(4))\n",
    "        figDensity.save(     outputPath + \"density\"     + str(step).zfill(4))\n",
    "        \n",
    "        Vrms = math.sqrt( velSquared.evaluate()[0]/area.evaluate()[0] )\n",
    "        print('step = {0:6d}; time = {1:.3e}; Vrms = {2:.3e}, time(yr) = {3:.3e};'.format(step,time,Vrms,dimensionalise(time, u.year).magnitude))\n",
    "\n",
    "    if step % checkoutput == 0:\n",
    "        checkpoint()\n",
    "    # update\n",
    "    time,step = update()"
   ]
  },
  {
   "cell_type": "code",
   "execution_count": 74,
   "metadata": {},
   "outputs": [
    {
     "data": {
      "text/html": [
       "<img src='data:image/png;base64,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'>"
      ],
      "text/plain": [
       "<IPython.core.display.HTML object>"
      ]
     },
     "metadata": {},
     "output_type": "display_data"
    }
   ],
   "source": [
    "figSwarm.append(glucifer.objects.VectorArrows(mesh, velocityField))\n",
    "figSwarm.show()"
   ]
  },
  {
   "cell_type": "code",
   "execution_count": 75,
   "metadata": {},
   "outputs": [
    {
     "data": {
      "text/plain": [
       "3.03768115565566e-11"
      ]
     },
     "execution_count": 75,
     "metadata": {},
     "output_type": "execute_result"
    }
   ],
   "source": [
    "dimensionalise(time, u.year).magnitude"
   ]
  },
  {
   "cell_type": "code",
   "execution_count": 76,
   "metadata": {
    "scrolled": true
   },
   "outputs": [],
   "source": [
    "# if not glucifer.lavavu: raise KeyboardInterrupt #Stop notebook here if no vis enabled\n",
    "# lv = figSwarm.window()\n",
    "# lv.rotate(30)\n",
    "# lv.zoom(-7)\n",
    "# lv.redisplay()\n",
    "# lv.axis()"
   ]
  },
  {
   "cell_type": "code",
   "execution_count": 77,
   "metadata": {},
   "outputs": [
    {
     "data": {
      "text/html": [
       "<img src='data:image/png;base64,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'>"
      ],
      "text/plain": [
       "<IPython.core.display.HTML object>"
      ]
     },
     "metadata": {},
     "output_type": "display_data"
    }
   ],
   "source": [
    "figViscosity = glucifer.Figure(figsize=figsize, axis=True)\n",
    "figViscosity.append( glucifer.objects.Points(swarm, viscosityFn*viscosity_scaling.magnitude, colours='dem1', fn_size=2., logScale=True) )\n",
    "figViscosity.append(glucifer.objects.VectorArrows(mesh, velocityField))\n",
    "figViscosity.show()"
   ]
  },
  {
   "cell_type": "code",
   "execution_count": null,
   "metadata": {},
   "outputs": [],
   "source": [
    "#### S"
   ]
  }
 ],
 "metadata": {
  "kernelspec": {
   "display_name": "Python 2",
   "language": "python",
   "name": "python2"
  },
  "language_info": {
   "codemirror_mode": {
    "name": "ipython",
    "version": 2
   },
   "file_extension": ".py",
   "mimetype": "text/x-python",
   "name": "python",
   "nbconvert_exporter": "python",
   "pygments_lexer": "ipython2",
   "version": "2.7.13"
  }
 },
 "nbformat": 4,
 "nbformat_minor": 1
}
