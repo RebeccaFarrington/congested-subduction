{
 "cells": [
  {
   "cell_type": "markdown",
   "metadata": {},
   "source": [
    "**Material parameters for Moresi el al (2014)**\n",
    "\n",
    "This notebook outlines the material parameterisation used to model the dynamics of continental accretion as shown in Extended Data Figure 2 of [Moresi et al (2014) [doi:10.1038/nature13033](https://www.nature.com/articles/nature13033)\n",
    "\n",
    "A number of functions must be defined\n",
    "1. layer intersects of discretised lithospheric structure, a numpy array with dimensions of length [L]\n",
    "2. depth, a numpy array with dimensions of length [L]\n",
    "3. crustal density, rho(depth), a numpy array with dimensions of [M/L^3] \n",
    "4. temperature, temperature(depth), a numper array with dimensions of [T]\n",
    "5. yield strength, yieldStrength(pressure), a numpy array with dimensions of pressure []. Pressure assumed to be lithostatic pressure.\n",
    "6. softened yield strength, yieldStrength2(pressure), a numpy array with dimensions of pressure []. Pressure assumed to be lithostatic pressure.\n",
    "7. viscous deformation law?"
   ]
  },
  {
   "cell_type": "markdown",
   "metadata": {},
   "source": [
    "***Notes***\n",
    "\n",
    "I can't find details on the following\n",
    "1. The post-softening function? I've assumed post-softening cohesion and friction are 1/2 the original.\n",
    "2. The cratonic, transition viscosity maximum in Ex Fig 5c,d\n",
    "3. The cratonic, transition strength profile in Ex Fig 5c,d\n",
    "4. The back arc strength profile in Ex Fig 5e from?"
   ]
  },
  {
   "cell_type": "code",
   "execution_count": 1,
   "metadata": {},
   "outputs": [],
   "source": [
    "import underworld as uw\n",
    "from underworld import function as fn\n",
    "\n",
    "import numpy as np\n",
    "import math\n",
    "import scipy\n",
    "import scipy.special as special\n",
    "import os\n",
    "import matplotlib.pyplot as pypl\n",
    "import pint"
   ]
  },
  {
   "cell_type": "code",
   "execution_count": 2,
   "metadata": {},
   "outputs": [],
   "source": [
    "u = pint.UnitRegistry()"
   ]
  },
  {
   "cell_type": "markdown",
   "metadata": {},
   "source": [
    "**Define the layer intersections in the modelled lithosphere**"
   ]
  },
  {
   "cell_type": "code",
   "execution_count": 3,
   "metadata": {},
   "outputs": [
    {
     "name": "stdout",
     "output_type": "stream",
     "text": [
      "Numer of layers is 3\n",
      "Interface at [   0.   50.  100.  200.] kilometer\n"
     ]
    }
   ],
   "source": [
    "# for oceanic lithosphere, ExFig 5a, 5b\n",
    "# layers = np.array([0, 25, 50, 75, 100, 200]) * 10**3 * u.meter \n",
    "# for cratonic lithosphere, ExFig 5c\n",
    "# layers = np.array([0, 75, 150, 200]) * 10**3 * u.meter \n",
    "# for transition, ExFig 5d\n",
    "# layers = np.array([0, 50, 100, 200]) * 10**3 * u.meter \n",
    "# for back arc, ExFig 5e\n",
    "layers = np.array([0, 50, 100, 200]) * 10**3 * u.meter \n",
    "print('Numer of layers is {}'.format(len(layers)-1))\n",
    "print('Interface at {}'.format(layers.to('kilometer')))"
   ]
  },
  {
   "cell_type": "markdown",
   "metadata": {},
   "source": [
    "**Define depth**"
   ]
  },
  {
   "cell_type": "code",
   "execution_count": 4,
   "metadata": {},
   "outputs": [],
   "source": [
    "res   = 251\n",
    "depth = np.linspace(0, 250., res) * 10**3 * u.meter"
   ]
  },
  {
   "cell_type": "markdown",
   "metadata": {},
   "source": [
    "**Define density**"
   ]
  },
  {
   "cell_type": "code",
   "execution_count": 13,
   "metadata": {},
   "outputs": [],
   "source": [
    "# oceanic lithosphere\n",
    "# crustThickness  = 7.0  * u.kilometer\n",
    "# #crustDensity    = 2900 * u.kilogram / u.meter**3 # Oceanic crust (cold basalt)\n",
    "# crustDensity    = 3400 * u.kilogram / u.meter**3 # Eclogite\n",
    "#\n",
    "\n",
    "# # cratonic lithosphere\n",
    "# crustThickness  = 40.0  * u.kilometer\n",
    "# crustDensity    = 2700 * u.kilogram / u.meter**3 \n",
    "\n",
    "# # transition lithosphere\n",
    "# crustThickness  = 25.0  * u.kilometer\n",
    "# crustDensity    = 2700 * u.kilogram / u.meter**3 \n",
    "\n",
    "# back-arc lithosphere\n",
    "crustThickness  = 20.0  * u.kilometer\n",
    "crustDensity    = 2800 * u.kilogram / u.meter**3 \n",
    "\n",
    "mantleDensity   = 3400 * u.kilogram / u.meter**3  # (cold)  \n",
    "rho = np.ones(res)* u.kilogram / u.meter**3\n",
    "\n",
    "def density_def(depth):\n",
    "    for index, y in enumerate(depth):\n",
    "        if y > crustThickness:\n",
    "            rho[index] = mantleDensity\n",
    "        else:\n",
    "            rho[index] = crustDensity\n",
    "\n",
    "\n",
    "density_def(depth)"
   ]
  },
  {
   "cell_type": "markdown",
   "metadata": {},
   "source": [
    "**Define temperature**"
   ]
  },
  {
   "cell_type": "code",
   "execution_count": 14,
   "metadata": {},
   "outputs": [],
   "source": [
    "Tsurf = 273.15 * u.degK\n",
    "Tint  = 1573.0 * u.degK\n",
    "kappa = 1e-6   * u.meter**2 / u.second \n",
    "alpha = 3.0e-5 / u.kelvin\n",
    "\n",
    "grav  = 9.81   * u.meter / u.second**2\n",
    "R     = 8.314  * u.joule / u.degK / u.mol\n",
    "\n",
    "# for oceanic lithosphere thickness\n",
    "# def half_space_cooling(depth,age):\n",
    "#     return Tsurf +(Tint-Tsurf) * special.erf(depth/(2*np.sqrt(age*kappa)))\n",
    "\n",
    "# # age of oceanic lithosphere\n",
    "# #age = 120. * 10**6 * u.year\n",
    "age = 80. * 10**6 * u.year\n",
    "\n",
    "# temperature profile of oceanic lithosphere\n",
    "#temperature = half_space_cooling(depth.to_base_units(), age.to_base_units())\n",
    "\n",
    "# # temperature of cratonic lithosphere\n",
    "# def craton_linear_geotherm(depth):\n",
    "#     linear = depth.to('kilometer')*(Tint-Tsurf)/(150.*u.kilometer)+Tsurf\n",
    "#     return np.minimum(linear.magnitude,Tint)*linear.units\n",
    "\n",
    "# temperature = craton_linear_geotherm(depth)\n",
    "\n",
    "# # temperature of transition lithosphere\n",
    "# def transition_linear_geotherm(depth):\n",
    "#     linear = depth.to('kilometer')*(Tint-Tsurf)/(100.*u.kilometer)+Tsurf\n",
    "#     return np.minimum(linear.magnitude,Tint)*linear.units\n",
    "\n",
    "# temperature = transition_linear_geotherm(depth)\n",
    "\n",
    "# temperature of backarc lithosphere\n",
    "def backarc_linear_geotherm(depth):\n",
    "    linear = depth.to('kilometer')*(Tint-Tsurf)/(80.*u.kilometer)+Tsurf\n",
    "    return np.minimum(linear.magnitude,Tint)*linear.units\n",
    "\n",
    "temperature = backarc_linear_geotherm(depth)"
   ]
  },
  {
   "cell_type": "code",
   "execution_count": 15,
   "metadata": {},
   "outputs": [],
   "source": [
    "# density profile of lithosphere\n",
    "deltaT  = temperature - Tsurf\n",
    "density = rho - rho * deltaT * alpha"
   ]
  },
  {
   "cell_type": "code",
   "execution_count": 16,
   "metadata": {},
   "outputs": [],
   "source": [
    "# lithostatic pressure = \\rho * g * h\n",
    "pressure = density * grav * depth"
   ]
  },
  {
   "cell_type": "markdown",
   "metadata": {},
   "source": [
    "**Define yield criteria**"
   ]
  },
  {
   "cell_type": "code",
   "execution_count": 17,
   "metadata": {},
   "outputs": [],
   "source": [
    "# # oceanic lithosphere       \n",
    "# cohesion = 12.5 * u.megapascal\n",
    "\n",
    "# friction = 0.0666\n",
    "# cohesion2 = cohesion/2.\n",
    "# friction2 = friction/2.  # is this needed for the oceanic lithosphere?\n",
    "\n",
    "# yieldStrength  = cohesion  + friction  * pressure\n",
    "# yieldStrength2 = cohesion2 + friction2 * pressure # post yeild strength"
   ]
  },
  {
   "cell_type": "code",
   "execution_count": 18,
   "metadata": {},
   "outputs": [],
   "source": [
    "# # cratonic lithosphere strength profiles\n",
    "# yieldStrength  = np.ones(res)*130.*u.megapascal\n",
    "# yieldStrength2 = yieldStrength/2."
   ]
  },
  {
   "cell_type": "code",
   "execution_count": 19,
   "metadata": {},
   "outputs": [],
   "source": [
    "# # transitional lithosphere strength profiles\n",
    "# yieldStrength = np.zeros(res)*u.megapascal\n",
    "# def trans_yeildStrength(depth):\n",
    "#     for index, y in enumerate(depth):\n",
    "#         if y < 50.*u.kilometer:\n",
    "#             yieldStrength[index] = 40.*u.megapascal\n",
    "#         elif y < 100.*u.kilometer:\n",
    "#             yieldStrength[index] = 150.*u.megapascal\n",
    "#     return yieldStrength\n",
    "\n",
    "# # yieldStrength  = np.ones(res)*40.*u.megapascal\n",
    "# trans_yeildStrength(depth)\n",
    "# yieldStrength2 = yieldStrength/2."
   ]
  },
  {
   "cell_type": "code",
   "execution_count": 20,
   "metadata": {},
   "outputs": [],
   "source": [
    "# # back arc weak\n",
    "# cohesion = 12.5*u.megapascal*2\n",
    "\n",
    "# friction = 0.0666\n",
    "# cohesion2 = cohesion/2.\n",
    "# friction2 = friction/2.  # is this needed for the oceanic lithosphere?"
   ]
  },
  {
   "cell_type": "code",
   "execution_count": 72,
   "metadata": {},
   "outputs": [],
   "source": [
    "# back arc strong\n",
    "yieldStrength = np.zeros(res)*u.megapascal\n",
    "def backarc_yeildStrength(depth):\n",
    "    for index, y in enumerate(depth):\n",
    "        if y < 20.*u.kilometer:\n",
    "            yieldStrength[index] =  85.*u.megapascal\n",
    "        elif y < 100.*u.kilometer:   # this should be 80 km.\n",
    "            yieldStrength[index] = 170.*u.megapascal\n",
    "    return yieldStrength\n",
    "\n",
    "# yieldStrength  = np.ones(res)*40.*u.megapascal\n",
    "yieldStrength  = backarc_yeildStrength(depth)\n",
    "yieldStrength2 = yieldStrength/2."
   ]
  },
  {
   "cell_type": "markdown",
   "metadata": {},
   "source": [
    "**Define viscous deformation**"
   ]
  },
  {
   "cell_type": "code",
   "execution_count": 73,
   "metadata": {},
   "outputs": [],
   "source": [
    "# wet diffusion creep - Karato & Wu, 1993\n",
    "A = 5.3  * 10**15 / u.pascal / u.second\n",
    "E = 240. * 10**3 * u.joule / u.mol\n",
    "V = 5.0  * 1e-6 * u.meter**3 / u.mol\n",
    "\n",
    "max_viscosity = 10**5\n",
    "\n",
    "def arrhenius(T,P):\n",
    "    \"\"\" Arrhenius viscosity assuming absolute temperature T and pressure P \"\"\"\n",
    "    #print( E, V, P, R, T)\n",
    "    # DW should be scaled to 'density' of crust or mantle, not just mantle?\n",
    "    return np.exp((E + V*P)/(R*T))"
   ]
  },
  {
   "cell_type": "code",
   "execution_count": 74,
   "metadata": {},
   "outputs": [],
   "source": [
    "# define some reference parameters\n",
    "ref_depth     = 100. * 10**3 *u.meter   \n",
    "ref_pressure  = mantleDensity * grav * ref_depth\n",
    "ref_temp      = Tint\n",
    "ref_viscosity = arrhenius(ref_temp, ref_pressure)\n",
    "ref_density   = mantleDensity * (Tint-Tsurf) * alpha"
   ]
  },
  {
   "cell_type": "code",
   "execution_count": 75,
   "metadata": {},
   "outputs": [],
   "source": [
    "# calculate viscosity profile\n",
    "viscosity = np.clip(arrhenius(temperature, pressure)/ref_viscosity, a_min = 0, a_max = max_viscosity) "
   ]
  },
  {
   "cell_type": "code",
   "execution_count": 85,
   "metadata": {},
   "outputs": [],
   "source": [
    "# calculate averages of layers\n",
    "avg_depth      = []\n",
    "avg_temp       = []\n",
    "avg_density    = []\n",
    "avg_pressure   = []\n",
    "avg_viscosity  = []\n",
    "avg_strength   = []\n",
    "low_strength   = []\n",
    "avg_strength2  = []\n",
    "low_strength2  = []\n",
    "\n",
    "prevIndex = 0\n",
    "for i, interface in enumerate(layers):\n",
    "    if( interface > 250.*u.kilometer):\n",
    "        break\n",
    "    index = np.where(depth.magnitude==interface.magnitude)[0][0]\n",
    "    if depth[index].magnitude > 0.:\n",
    "        avg_depth.append(     np.average(depth.to('km').magnitude[prevIndex:index]))\n",
    "        avg_temp.append(      np.average(temperature[prevIndex:index]))\n",
    "        avg_density.append((  np.average(density[ prevIndex: index])-(density[-1]).magnitude)/ref_density.magnitude)\n",
    "        avg_pressure.append(  np.average(pressure.to('MPa').magnitude[prevIndex:index]))\n",
    "        avg_viscosity.append( np.average(viscosity.magnitude[prevIndex:index]))\n",
    "        avg_strength.append(  np.average(yieldStrength.to('MPa').magnitude[prevIndex:index]))\n",
    "#        low_strength.append(  np.min(yieldStrength.to('MPa').magnitude[np.nonzero(yieldStrength.to('MPa').magnitude[prevIndex:index])]))\n",
    "        low_strength.append(  np.min(    yieldStrength.to('MPa').magnitude[prevIndex:index]))\n",
    "        avg_strength2.append( np.average(yieldStrength2.to('MPa').magnitude[prevIndex:index]))\n",
    "        low_strength2.append( np.min(    yieldStrength2.to('MPa').magnitude[prevIndex:index]))\n",
    "    prevIndex = index"
   ]
  },
  {
   "cell_type": "code",
   "execution_count": 86,
   "metadata": {},
   "outputs": [
    {
     "data": {
      "text/plain": [
       "(array([], dtype=int64),)"
      ]
     },
     "execution_count": 86,
     "metadata": {},
     "output_type": "execute_result"
    }
   ],
   "source": [
    "nonzero_yeildStregth = np.nonzero(yieldStrength.to('MPa').magnitude[prevIndex:index])\n",
    "nonzero_yeildStregth"
   ]
  },
  {
   "cell_type": "code",
   "execution_count": 93,
   "metadata": {
    "scrolled": true
   },
   "outputs": [
    {
     "data": {
      "text/plain": [
       "<BarContainer object of 2 artists>"
      ]
     },
     "execution_count": 93,
     "metadata": {},
     "output_type": "execute_result"
    },
    {
     "data": {
      "image/png": "[encoded data removed]",
      "text/plain": [
       "<Figure size 864x576 with 6 Axes>"
      ]
     },
     "metadata": {
      "needs_background": "light"
     },
     "output_type": "display_data"
    }
   ],
   "source": [
    "figure1 = pypl.figure(figsize=(12,8))\n",
    "figure1.suptitle('Half-space cooling - {} Oceanic Lithosphere'.format(age.to('Myear')), fontsize=14, fontweight='bold')\n",
    "\n",
    "height = (layers.magnitude[2] - layers.magnitude[1])/1e3\n",
    "# for back arc\n",
    "height=((layers.magnitude[1] - layers.magnitude[0])/1e3,(layers.magnitude[2] - layers.magnitude[1])/1e3)\n",
    "\n",
    "# Temperature and Viscosity profiles\n",
    "tempPlot = figure1.add_subplot(131)\n",
    "tempPlot.plot(temperature.to('degC'), depth.to('kilometer'), color='green', linestyle='solid', linewidth=2, label='')\n",
    "tempPlot.set_xlabel('Temperature (C)')\n",
    "tempPlot.set_ylabel('Depth (kilometer)')\n",
    "tempPlot.set_xlim(0,1500)\n",
    "tempPlot.set_ylim(250, 0)\n",
    "tempPlot.set_yticks([0,25,50,75,100,200,250])\n",
    "tempPlot.grid(axis='y')\n",
    "\n",
    "viscPlot = tempPlot.twiny()\n",
    "viscPlot.plot(np.log10(viscosity), depth.to('kilometer'), color='blue', linestyle='solid', linewidth=2)\n",
    "viscPlot.set_xlabel('log$_{10}$ relative viscosity')\n",
    "viscPlot.set_xlim(0, 7)\n",
    "viscPlot.set_ylim(0, 250)\n",
    "viscPlot.invert_yaxis()\n",
    "viscPlot.barh(layers.magnitude[0:-2]/10**3,np.log10(avg_viscosity[0:-1]), height=height, left=0.0, alpha=0.5, align=\"edge\")\n",
    "#viscPlot.barh(100.0, np.log10(avg_viscosity[-1]), height=100.0, left=0.0, alpha=0.5, linestyle='solid', hatch='//', align=\"edge\")\n",
    "\n",
    "# Density profile\n",
    "densityPlot = figure1.add_subplot(132)\n",
    "densityPlot.plot(density, depth.to('kilometer'), color='red' , linestyle='solid', linewidth=2)\n",
    "densityPlot.set_xlabel('Density (kg/m$^3$)')\n",
    "#densityPlot.set_xlim(2800,3500)\n",
    "densityPlot.set_xlim(2600,3500)\n",
    "densityPlot.set_ylim(0, 250)\n",
    "densityPlot.invert_yaxis()\n",
    "densityPlot.set_yticks([0,25,50,75,100,200,250])\n",
    "densityPlot.grid(axis='y')\n",
    "\n",
    "relDensityPlot = densityPlot.twiny()\n",
    "relDensityPlot.set_xlabel('Relative density')\n",
    "#relDensityPlot.set_xlim(-0.2, 1.0)\n",
    "relDensityPlot.set_xlim(-2., 1.0)\n",
    "relDensityPlot.axvline(x=0, ymin=0, ymax=1, linestyle='dotted', color='black')\n",
    "relDensityPlot.set_ylim(250,0)\n",
    "relDensityPlot.barh(layers[0:-2]/10**3,avg_density[0:-1], height=height, left=0.0, alpha=0.5, color='#FF2222', align=\"edge\")\n",
    "#relDensityPlot.barh(100.0, avg_density[4], height=100.0, left=0.0, alpha=0.5, fill='false', color='#FF2222', hatch='//', align=\"edge\")\n",
    "\n",
    "# lithostatic pressure and strength profile\n",
    "pressurePlot = figure1.add_subplot(133)\n",
    "pressurePlot.set_xlabel('Pressure (Mpa)')\n",
    "pressurePlot.set_yticks([0,25,50,75,100,200,250])\n",
    "pressurePlot.plot(pressure.to('MPa'), depth.to('kilometer'), color='DarkGreen', linestyle='dashed', linewidth=2)\n",
    "pressurePlot.set_xticks([0,2500,5000,7500,10000])\n",
    "pressurePlot.set_ylim(0, 250)\n",
    "pressurePlot.invert_yaxis()\n",
    "pressurePlot.set_xlim(0, 7500)\n",
    "pressurePlot.grid(axis='y')\n",
    "\n",
    "strengthPlot = pressurePlot.twiny()\n",
    "strengthPlot.set_xlabel('Yield strength (Mpa)')\n",
    "strengthPlot.set_ylim(250,0)\n",
    "strengthPlot.set_xlim(0, 150)\n",
    "strengthPlot.plot(yieldStrength.to('MPa'), depth.to('kilometer'), color='green', linestyle='solid', linewidth=2, label='Yield strength (MPa)')\n",
    "#strengthPlot.barh(layers[0:-3]/10**3, low_strength[0:-2], height=height, left=0.0, alpha=0.5, color='green', align=\"edge\")\n",
    "#strengthPlot.barh(layers[0:-3]/10**3,low_strength2[0:-2], height=height, left=0.0, alpha=0.5, color='darkgreen', align=\"edge\")\n",
    "# # for craton. transition\n",
    "#strengthPlot.barh(layers[0:-2]/10**3, low_strength[0:-1], height=height, left=0.0, alpha=0.5, color='green', align=\"edge\")\n",
    "#strengthPlot.barh(layers[0:-2]/10**3,low_strength2[0:-1], height=height, left=0.0, alpha=0.5, color='darkgreen', align=\"edge\")\n",
    "strengthPlot.barh(layers[0:-2]/10**3, avg_strength[0:-1], height=height, left=0.0, alpha=0.5, color='green', align=\"edge\")\n",
    "strengthPlot.barh(layers[0:-2]/10**3, avg_strength2[0:-1], height=height, left=0.0, alpha=0.5, color='green', align=\"edge\")\n"
   ]
  },
  {
   "cell_type": "markdown",
   "metadata": {},
   "source": [
    "## print(layers)"
   ]
  },
  {
   "cell_type": "code",
   "execution_count": 94,
   "metadata": {},
   "outputs": [
    {
     "name": "stdout",
     "output_type": "stream",
     "text": [
      "[88797.532298058388, 171.86790723386028, 1.8564880216537318]\n"
     ]
    }
   ],
   "source": [
    "print(avg_viscosity)"
   ]
  },
  {
   "cell_type": "code",
   "execution_count": 95,
   "metadata": {},
   "outputs": [
    {
     "name": "stdout",
     "output_type": "stream",
     "text": [
      "[-1.1976570910896991, 0.11624999999999902, -3.4298629546732325e-15]\n"
     ]
    }
   ],
   "source": [
    "print(avg_density)"
   ]
  },
  {
   "cell_type": "code",
   "execution_count": 96,
   "metadata": {},
   "outputs": [
    {
     "name": "stdout",
     "output_type": "stream",
     "text": [
      "[85.0, 170.0, 0.0]\n"
     ]
    }
   ],
   "source": [
    "print(low_strength)"
   ]
  },
  {
   "cell_type": "code",
   "execution_count": 97,
   "metadata": {},
   "outputs": [
    {
     "name": "stdout",
     "output_type": "stream",
     "text": [
      "[42.5, 85.0, 0.0]\n"
     ]
    }
   ],
   "source": [
    "print(low_strength2)"
   ]
  },
  {
   "cell_type": "code",
   "execution_count": 98,
   "metadata": {},
   "outputs": [
    {
     "name": "stdout",
     "output_type": "stream",
     "text": [
      "[136.0, 170.0, 0.0]\n"
     ]
    }
   ],
   "source": [
    "print(avg_strength)"
   ]
  },
  {
   "cell_type": "code",
   "execution_count": 99,
   "metadata": {},
   "outputs": [
    {
     "name": "stdout",
     "output_type": "stream",
     "text": [
      "[68.0, 85.0, 0.0]\n"
     ]
    }
   ],
   "source": [
    "print(avg_strength2)"
   ]
  },
  {
   "cell_type": "code",
   "execution_count": null,
   "metadata": {},
   "outputs": [],
   "source": []
  }
 ],
 "metadata": {
  "kernelspec": {
   "display_name": "Python 2",
   "language": "python",
   "name": "python2"
  },
  "language_info": {
   "codemirror_mode": {
    "name": "ipython",
    "version": 2
   },
   "file_extension": ".py",
   "mimetype": "text/x-python",
   "name": "python",
   "nbconvert_exporter": "python",
   "pygments_lexer": "ipython2",
   "version": "2.7.13"
  }
 },
 "nbformat": 4,
 "nbformat_minor": 2
}
