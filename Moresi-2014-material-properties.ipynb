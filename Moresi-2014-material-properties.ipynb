{
 "cells": [
  {
   "cell_type": "markdown",
   "metadata": {},
   "source": [
    "**Material parameters for Moresi el al (2014)**\n",
    "\n",
    "This notebook outlines the material parameterisation used to model the dynamics of continental accretion as shown in Extended Data Figure 2 of [Moresi et al (2014) [doi:10.1038/nature13033](https://www.nature.com/articles/nature13033)"
   ]
  },
  {
   "cell_type": "code",
   "execution_count": 1,
   "metadata": {},
   "outputs": [],
   "source": [
    "import underworld as uw\n",
    "from underworld import function as fn\n",
    "\n",
    "import numpy as np\n",
    "import math\n",
    "import scipy\n",
    "import scipy.special as special\n",
    "import os\n",
    "import matplotlib.pyplot as pypl\n",
    "import pint"
   ]
  },
  {
   "cell_type": "code",
   "execution_count": 2,
   "metadata": {},
   "outputs": [],
   "source": [
    "u = pint.UnitRegistry()"
   ]
  },
  {
   "cell_type": "code",
   "execution_count": 3,
   "metadata": {},
   "outputs": [],
   "source": [
    "outputPath = os.path.join(os.path.abspath(\".\"),\"output/\")\n",
    "\n",
    "if uw.mpi.rank==0:\n",
    "    if not os.path.exists(outputPath):\n",
    "        os.makedirs(outputPath)\n",
    "uw.mpi.barrier()"
   ]
  },
  {
   "cell_type": "code",
   "execution_count": 4,
   "metadata": {},
   "outputs": [],
   "source": [
    "##Get Slab Parameters\n",
    "# age       = 80 Myr oceanic lithosphere\n",
    "# thickness = 7 km basaltic crust\n",
    "# cohesion  = 12.5 MPa\n",
    "# friction coeffient = 0.0666\n",
    "# slabParams = calculateOceanicLayering(80, 7, cohesion = 12.5, frict = 0.0666, plot='plot')"
   ]
  },
  {
   "cell_type": "markdown",
   "metadata": {},
   "source": [
    "**OK, Here's where I am. need to put this all in functions. ergh**"
   ]
  },
  {
   "cell_type": "code",
   "execution_count": 5,
   "metadata": {},
   "outputs": [],
   "source": [
    "#def createMaterialProfile( maxDepth, layers, depth, rho, cohesion, friction, max_viscosity )"
   ]
  },
  {
   "cell_type": "code",
   "execution_count": 6,
   "metadata": {},
   "outputs": [],
   "source": [
    "layer = []"
   ]
  },
  {
   "cell_type": "code",
   "execution_count": 7,
   "metadata": {},
   "outputs": [
    {
     "name": "stdout",
     "output_type": "stream",
     "text": [
      "Numer of layers is 5\n",
      "Interface at [   0.   25.   50.   75.  100.  250.] kilometer\n"
     ]
    }
   ],
   "source": [
    "## create numpy array with layer interfaces for depth\n",
    "layers = np.array([0, 25, 50, 75, 100, 250]) * 10**3 * u.meter \n",
    "print('Numer of layers is {}'.format(len(layers)-1))\n",
    "print('Interface at {}'.format(layers.to('kilometer')))"
   ]
  },
  {
   "cell_type": "code",
   "execution_count": 8,
   "metadata": {},
   "outputs": [],
   "source": [
    "res   = 251\n",
    "depth = np.linspace(0, 250., res) * 10**3 * u.meter\n",
    "rho   = np.empty(res) * u.kilogram / u.meter**3"
   ]
  },
  {
   "cell_type": "code",
   "execution_count": 9,
   "metadata": {},
   "outputs": [],
   "source": [
    "# define density profile\n",
    "crustDensity    = 2900 * u.kilogram / u.meter**3 # Oceanic crust (cold basalt)\n",
    "mantleDensity   = 3400 * u.kilogram / u.meter**3  # (cold)  \n",
    "for i, j in enumerate(depth):\n",
    "    if j < 7.0 * 10**3 * u.meter:\n",
    "        rho[i] = crustDensity # Oceanic crust (cold basalt)\n",
    "    else:\n",
    "        rho[i] = mantleDensity # (cold)  "
   ]
  },
  {
   "cell_type": "code",
   "execution_count": 10,
   "metadata": {},
   "outputs": [],
   "source": [
    "# define yield criteria        \n",
    "cohesion = 12.5 * 10**6 * u.pascal\n",
    "friction = 0.0666"
   ]
  },
  {
   "cell_type": "code",
   "execution_count": 11,
   "metadata": {},
   "outputs": [],
   "source": [
    "# parameters of interest!\n",
    "Tsurf = 273.15 * u.degK\n",
    "Tint  = 1573.0 * u.degK\n",
    "kappa = 1e-6   * u.meter**2 / u.second \n",
    "alpha = 3.0e-5 / u.kelvin\n",
    "\n",
    "grav  = 9.81   * u.meter / u.second**2\n",
    "R     = 8.314  * u.joule / u.degK / u.mol\n",
    "\n",
    "# wet diffusion creep - Karato & Wu, 1993\n",
    "A = 5.3 * 10**15 / u.pascal / u.second\n",
    "E = 240. * 10**3 * u.joule / u.mol\n",
    "V = 5.0  * 1e-6 * u.meter**3 / u.mol\n",
    "\n",
    "max_viscosity = 10**5"
   ]
  },
  {
   "cell_type": "code",
   "execution_count": 12,
   "metadata": {},
   "outputs": [
    {
     "name": "stderr",
     "output_type": "stream",
     "text": [
      "IOPub data rate exceeded.\n",
      "The notebook server will temporarily stop sending output\n",
      "to the client in order to avoid crashing it.\n",
      "To change this limit, set the config variable\n",
      "`--NotebookApp.iopub_data_rate_limit`.\n",
      "\n",
      "Current values:\n",
      "NotebookApp.iopub_data_rate_limit=1000000.0 (bytes/sec)\n",
      "NotebookApp.rate_limit_window=3.0 (secs)\n",
      "\n"
     ]
    }
   ],
   "source": [
    "help(scipy)"
   ]
  },
  {
   "cell_type": "code",
   "execution_count": 13,
   "metadata": {},
   "outputs": [],
   "source": [
    "# for oceanic lithosphere thickness\n",
    "def half_space_cooling(depth,age):\n",
    "    return Tsurf +(Tint-Tsurf) * special.erf(depth/(2*np.sqrt(age*kappa)))\n",
    "\n",
    "# age of oceanic lithosphere\n",
    "age = 80. * 10**6 * u.year\n",
    "\n",
    "# temperature profile of lithosphere\n",
    "temperature = half_space_cooling(depth.to_base_units(), age.to_base_units())"
   ]
  },
  {
   "cell_type": "code",
   "execution_count": 14,
   "metadata": {},
   "outputs": [],
   "source": [
    "# density profile of lithosphere\n",
    "deltaT  = temperature - Tsurf\n",
    "density = rho - rho * deltaT * alpha"
   ]
  },
  {
   "cell_type": "code",
   "execution_count": 15,
   "metadata": {},
   "outputs": [],
   "source": [
    "# lithostatic pressure = \\rho * g * h\n",
    "pressure = density * grav * depth"
   ]
  },
  {
   "cell_type": "code",
   "execution_count": 16,
   "metadata": {},
   "outputs": [],
   "source": [
    "def arrhenius(T,P):\n",
    "    \"\"\" Arrhenius viscosity assuming absolute temperature T and pressure P \"\"\"\n",
    "    #print( E, V, P, R, T)\n",
    "    # DW should be scaled to 'density' of crust or mantle, not just mantle?\n",
    "    return np.exp((E + V*P)/(R*T))"
   ]
  },
  {
   "cell_type": "code",
   "execution_count": 17,
   "metadata": {},
   "outputs": [],
   "source": [
    "# define some reference parameters\n",
    "ref_depth     = 100. * 10**3 *u.meter   \n",
    "ref_pressure  = mantleDensity * grav * ref_depth\n",
    "ref_temp      = Tint\n",
    "ref_viscosity = arrhenius(ref_temp, ref_pressure)\n",
    "ref_density   = mantleDensity * (Tint-Tsurf) * alpha"
   ]
  },
  {
   "cell_type": "code",
   "execution_count": 18,
   "metadata": {},
   "outputs": [],
   "source": [
    "# calculate viscosity profile\n",
    "viscosity = np.clip(arrhenius(temperature, pressure)/ref_viscosity, a_min = 0, a_max = max_viscosity) "
   ]
  },
  {
   "cell_type": "code",
   "execution_count": 19,
   "metadata": {},
   "outputs": [],
   "source": [
    "# strength profiles\n",
    "#     LayerWeakestStrength = [cohesion,0,0,0,0,0]\n",
    "#     yieldStrength.append(cohesion)\n",
    "#             yieldStrength.append(cohesion + frict * lithostaticPressure[index])\n",
    "yieldStrength = cohesion + friction * pressure\n",
    "        "
   ]
  },
  {
   "cell_type": "code",
   "execution_count": 20,
   "metadata": {},
   "outputs": [
    {
     "name": "stderr",
     "output_type": "stream",
     "text": [
      "/usr/local/lib/python3.5/dist-packages/pint/quantity.py:1377: UnitStrippedWarning: The unit of the quantity is stripped.\n",
      "  warnings.warn(\"The unit of the quantity is stripped.\", UnitStrippedWarning)\n"
     ]
    }
   ],
   "source": [
    "# calculate averages of layers\n",
    "avg_depth     = []\n",
    "avg_temp      = []\n",
    "avg_density   = []\n",
    "avg_pressure  = []\n",
    "avg_viscosity = []\n",
    "avg_strength  = []\n",
    "low_strength  = []\n",
    "\n",
    "prevIndex = 0\n",
    "for i, interface in enumerate(layers):\n",
    "    if( interface > 250.*u.kilometer):\n",
    "        break\n",
    "    index = np.where(depth.magnitude==interface.magnitude)[0][0]\n",
    "    if depth[index].magnitude > 0.:\n",
    "        avg_depth.append(    np.average(depth.magnitude[prevIndex:index]))\n",
    "        avg_temp.append(     np.average(temperature[prevIndex:index]))\n",
    "        avg_density.append(( np.average(density[ prevIndex: index])-(density[-1]).magnitude)/ref_density.magnitude)\n",
    "        avg_pressure.append( np.average(pressure.magnitude[prevIndex:index]))\n",
    "        avg_viscosity.append(np.average(viscosity.magnitude[prevIndex:index]))\n",
    "        avg_strength.append( np.average(yieldStrength.to('MPa').magnitude[prevIndex:index]))\n",
    "        low_strength.append( np.min(yieldStrength.to('MPa').magnitude[prevIndex:index]))\n",
    "\n",
    "    prevIndex = index"
   ]
  },
  {
   "cell_type": "code",
   "execution_count": 21,
   "metadata": {},
   "outputs": [],
   "source": [
    "# yieldStrength.to('MPa').magnitude\n"
   ]
  },
  {
   "cell_type": "code",
   "execution_count": 22,
   "metadata": {},
   "outputs": [
    {
     "data": {
      "text/plain": [
       "<BarContainer object of 3 artists>"
      ]
     },
     "execution_count": 22,
     "metadata": {},
     "output_type": "execute_result"
    },
    {
     "data": {
      "image/png": "[encoded data removed]",
      "text/plain": [
       "<Figure size 864x576 with 6 Axes>"
      ]
     },
     "metadata": {
      "needs_background": "light"
     },
     "output_type": "display_data"
    }
   ],
   "source": [
    "figure1 = pypl.figure(figsize=(12,8))\n",
    "\n",
    "figure1.suptitle('Half-space cooling - {} Oceanic Lithosphere'.format(age.to('Myear')), fontsize=14, fontweight='bold')\n",
    "\n",
    "# Temperature and Viscosity profiles\n",
    "tempPlot = figure1.add_subplot(131)\n",
    "tempPlot.plot(temperature.to('degC'), depth.to('kilometer'), color='green', linestyle='solid', linewidth=2, label='')\n",
    "tempPlot.set_xlabel('Temperature (C)')\n",
    "tempPlot.set_ylabel('Depth (kilometer)')\n",
    "tempPlot.set_xlim(0,1500)\n",
    "tempPlot.set_ylim(250, 0)\n",
    "tempPlot.set_yticks([0,25,50,75,100,200,250])\n",
    "tempPlot.grid(axis='y')\n",
    "\n",
    "viscPlot = tempPlot.twiny()\n",
    "viscPlot.plot(np.log10(viscosity), depth.to('kilometer'), color='blue', linestyle='solid', linewidth=2)\n",
    "viscPlot.set_xlabel('log$_{10}$ relative viscosity')\n",
    "viscPlot.set_xlim(0, 7)\n",
    "viscPlot.set_ylim(0, 250)\n",
    "viscPlot.invert_yaxis()\n",
    "viscPlot.barh(layers.magnitude[0:4]/10**3,np.log10(avg_viscosity[0:4]), height=25.0, left=0.0, alpha=0.5, align=\"edge\")\n",
    "viscPlot.barh(100.0, np.log10(avg_viscosity[4]), height=100.0, left=0.0, alpha=0.5, linestyle='solid', hatch='//', align=\"edge\")\n",
    "\n",
    "# Density profile\n",
    "densityPlot = figure1.add_subplot(132)\n",
    "densityPlot.plot(density, depth.to('kilometer'), color='red' , linestyle='solid', linewidth=2)\n",
    "densityPlot.set_xlabel('Density (kg/m$^3$)')\n",
    "densityPlot.set_xlim(2800,3500)\n",
    "densityPlot.set_ylim(0, 250)\n",
    "densityPlot.invert_yaxis()\n",
    "densityPlot.set_yticks([0,25,50,75,100,200,250])\n",
    "densityPlot.grid(axis='y')\n",
    "\n",
    "relDensityPlot = densityPlot.twiny()\n",
    "relDensityPlot.set_xlabel('Relative density')\n",
    "relDensityPlot.set_xlim(-0.2, 0.61)\n",
    "relDensityPlot.axvline(x=0, ymin=0, ymax=1, linestyle='dotted', color='black')\n",
    "relDensityPlot.set_ylim(250,0)\n",
    "relDensityPlot.barh(layers[0:4]/10**3,avg_density[0:4], height=25.0, left=0.0, alpha=0.5, color='#FF2222', align=\"edge\")\n",
    "relDensityPlot.barh(100.0, avg_density[4], height=100.0, left=0.0, alpha=0.5, fill='false', color='#FF2222', hatch='//', align=\"edge\")\n",
    "\n",
    "# lithostatic pressure and strength profile\n",
    "pressurePlot = figure1.add_subplot(133)\n",
    "pressurePlot.set_xlabel('Pressure (Mpa)')\n",
    "pressurePlot.set_yticks([0,25,50,75,100,200,250])\n",
    "pressurePlot.plot(pressure.to('MPa'), depth.to('kilometer'), color='DarkGreen', linestyle='dashed', linewidth=2)\n",
    "pressurePlot.set_xticks([0,2500,5000,7500,10000])\n",
    "pressurePlot.set_ylim(0, 250)\n",
    "pressurePlot.invert_yaxis()\n",
    "pressurePlot.set_xlim(0, 7500)\n",
    "pressurePlot.grid(axis='y')\n",
    "\n",
    "strengthPlot = pressurePlot.twiny()\n",
    "strengthPlot.set_xlabel('Yield strength (Mpa)')\n",
    "strengthPlot.set_ylim(250,0)\n",
    "strengthPlot.set_xlim(0, 150)\n",
    "strengthPlot.plot(yieldStrength.to('MPa'), depth.to('kilometer'), color='green', linestyle='solid', linewidth=2, label='Yield strength (MPa)')\n",
    "\n",
    "strengthPlot.barh(layers[0:3]/10**3,avg_strength[0:3], height=25.0, left=0.0, alpha=0.5, color='green', align=\"edge\")\n",
    "#strengthPlot.barh(LayerTop[0:4],LayerWeakestStrength[0:4], height=25.0, left=0.0, alpha=0.5, color='green', align=\"edge\")\n",
    "# strengthPlot.barh(100.0, LayerAverageStrength[4], height=100.0, left=0.0, alpha=0.5, color='#EEFFEE', linestyle='solid', hatch='//')\n"
   ]
  },
  {
   "cell_type": "code",
   "execution_count": null,
   "metadata": {},
   "outputs": [],
   "source": [
    "# cratonic lithosphere, \n",
    "# thickness = 150 km thick\n",
    "# crustal_thickness = 40km \n",
    "# density = 2700kg m^3\n",
    "slabParams = calculateOceanicLayering(crust_thickness=40, plot='plot')  # densidy "
   ]
  },
  {
   "cell_type": "code",
   "execution_count": null,
   "metadata": {},
   "outputs": [],
   "source": [
    "# back-arc lithosphere, \n",
    "# thickness = 80 km\n",
    "# crustal_thickness = 40km \n",
    "# density = 2800kg m^3\n",
    "# cohesion  = 170 MPa\n",
    "# friction coeffient = 0.0666\n",
    "\n",
    "slabParams = calculateOceanicLayering(80, crust_thickness=40, plot='plot')  # densidy "
   ]
  },
  {
   "cell_type": "code",
   "execution_count": null,
   "metadata": {},
   "outputs": [],
   "source": [
    "# transition lithosphere, \n",
    "# thickness = 100 km\n",
    "# crustal_thickness = 40km \n",
    "# density = 2700kg m^3\n",
    "slabParams = calculateOceanicLayering(80, crust_thickness=40, plot='plot')  # densidy "
   ]
  },
  {
   "cell_type": "code",
   "execution_count": null,
   "metadata": {},
   "outputs": [],
   "source": [
    "# ribbon , \n",
    "# thickness = 50 km\n",
    "# crustal_thickness = ?\n",
    "# density = ?\n",
    "slabParams = calculateOceanicLayering(80, crust_thickness=40, plot='plot')  # densidy "
   ]
  },
  {
   "cell_type": "code",
   "execution_count": null,
   "metadata": {},
   "outputs": [],
   "source": [
    "##Assign Material dictionaries\n",
    "\n",
    "##Continental Values\n",
    "CrustViscosity = 1.0*10**5\n",
    "minCrustVisc = 1.0*10**3\n",
    "CrustCohesion = 0.025\n",
    "CrustDensity = -1.0\n",
    "\n",
    "LithoViscosity = 4.0*10**2\n",
    "minLithoVisc = 1.0*10**2\n",
    "LithoCohesion = 0.05\n",
    "LithoDensity = 0.1\n",
    "\n",
    "#Geometry\n",
    "\n",
    "trench = 2.5\n",
    "\n",
    "slabGeo = {\"minX\":trench, \"maxX\": maxCoord[0]-0.25, \"minZ\":minCoord[2], \"maxZ\":maxCoord[2], \"buoyantX\":maxCoord[0]-0.5}\n",
    "orpGeo = {\"minX\":minCoord[0]+0.25, \"FAB\":2.0, \"maxX\":trench, \"minZ\":minCoord[2], \"maxZ\": maxCoord[2]}\n",
    "contPlatGeo = {\"minX\":trench + 1.5, \"maxX\": maxCoord[0]-1.0, \"minZ\": minCoord[2], \"maxZ\" : 2.0}\n",
    "\n",
    "#MaterialProperties\n",
    "##Space after HTML colour is needed to seperate colors until buoyant strip\n",
    "## http://www.color-hex.com\n",
    "\n",
    "upperMantle = {\"Index\": 0, \"Density\": 0.001, \"Visc\": 3.0, \"color\":\"#00ffff \"}\n",
    "lowerMantle = {\"Index\": 1, \"Density\": 1.0, \"Visc\":100.0 , \"color\":\"#ff0000 \"} \n",
    "\n",
    "slabLayer1 = {\"Index\": 2, \"Density\": slabParams[1,3], \"Density2\": 1.0, \"Visc\":slabParams[1,2] , \"minVisc\":1.0*10**3,\n",
    "              \"Cohesion\":0.01, \"yeildRef\": slabParams[1,4], \"color\":\"#ffff00 \"}\n",
    "slabLayer2 = {\"Index\": 3, \"Density\": slabParams[2,3], \"Visc\":slabParams[2,2], \"minVisc\": 5.0*10**2, \"Cohesion\":0.05,\n",
    "             \"yeildRef\": slabParams[2,4], \"color\":\"#ffff7f \"}\n",
    "slabLayer3 = {\"Index\": 4, \"Density\": slabParams[3,3], \"Visc\":slabParams[3,2],\"minVisc\": 5.0*10**2, \"Cohesion\":0.2, \n",
    "             \"yeildRef\": slabParams[3,4], \"color\":\"#ffffb2 \"}\n",
    "slabLayer4 = {\"Index\": 5, \"Density\": slabParams[4,3], \"Visc\":slabParams[4,2], \"minVisc\": 1.0*10**5,\"Cohesion\":1.0, \n",
    "             \"yeildRef\": slabParams[4,4], \"color\":\"#ffffe5 \"}\n",
    "\n",
    "orpBACrust = {\"Index\": 6, \"Density\": CrustDensity, \"Visc\":CrustViscosity, \"Cohesion\":CrustCohesion,\n",
    "              \"minVisc\":minCrustVisc,\"color\":\"#1ab2ff \"}\n",
    "orpBALitho = {\"Index\": 7, \"Density\": LithoDensity, \"Visc\":LithoViscosity, \"Cohesion\":LithoCohesion,\n",
    "              \"minVisc\":minLithoVisc, \"color\":\"#005580 \"}\n",
    "orpFACrust = {\"Index\": 8, \"Density\": CrustDensity, \"Visc\":CrustViscosity, \"Cohesion\":CrustCohesion,\n",
    "            \"minVisc\":minCrustVisc, \"color\":\"#006080 \"}\n",
    "orpFALitho = {\"Index\": 9, \"Density\": LithoDensity, \"Visc\":LithoViscosity, \"Cohesion\":LithoCohesion, \n",
    "             \"minVisc\":minLithoVisc, \"color\":\"#4dd2ff \"}\n",
    "\n",
    "buoyantStrip = {\"Index\": 10, \"Density\": CrustDensity, \"Visc\":CrustViscosity, \"Cohesion\":CrustCohesion,\n",
    "    \"minVisc\":minCrustVisc , \"color\":\"#00004d\"}\n",
    "\n",
    "contPlatCrust = {\"Index\": 11, \"Density\": CrustDensity, \"Visc\":CrustViscosity, \"Cohesion\":CrustCohesion,\n",
    "              \"minVisc\":minCrustVisc,\"color\":\"#1ab2ff \"}\n",
    "contPlatLitho = {\"Index\": 12, \"Density\": LithoDensity, \"Visc\":LithoViscosity, \"Cohesion\":LithoCohesion,\n",
    "              \"minVisc\":minLithoVisc, \"color\":\"#005580 \"}\n",
    "\n",
    "\n",
    "# **Allocate materials to particles**"
   ]
  },
  {
   "cell_type": "code",
   "execution_count": null,
   "metadata": {},
   "outputs": [],
   "source": []
  }
 ],
 "metadata": {
  "kernelspec": {
   "display_name": "Python 3",
   "language": "python",
   "name": "python3"
  },
  "language_info": {
   "codemirror_mode": {
    "name": "ipython",
    "version": 3
   },
   "file_extension": ".py",
   "mimetype": "text/x-python",
   "name": "python",
   "nbconvert_exporter": "python",
   "pygments_lexer": "ipython3",
   "version": "3.5.3"
  }
 },
 "nbformat": 4,
 "nbformat_minor": 2
}
